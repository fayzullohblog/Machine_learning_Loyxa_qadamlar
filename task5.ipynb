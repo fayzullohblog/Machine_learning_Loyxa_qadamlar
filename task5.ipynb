{
  "nbformat": 4,
  "nbformat_minor": 0,
  "metadata": {
    "colab": {
      "provenance": [],
      "authorship_tag": "ABX9TyNARHgdYOimpgTDpX5CRaox",
      "include_colab_link": true
    },
    "kernelspec": {
      "name": "python3",
      "display_name": "Python 3"
    },
    "language_info": {
      "name": "python"
    }
  },
  "cells": [
    {
      "cell_type": "markdown",
      "metadata": {
        "id": "view-in-github",
        "colab_type": "text"
      },
      "source": [
        "<a href=\"https://colab.research.google.com/github/fayzullohblog/Machine_learning_Loyxa_qadamlar/blob/main/task5.ipynb\" target=\"_parent\"><img src=\"https://colab.research.google.com/assets/colab-badge.svg\" alt=\"Open In Colab\"/></a>"
      ]
    },
    {
      "cell_type": "code",
      "execution_count": 7,
      "metadata": {
        "id": "jk_XG5OySLHT"
      },
      "outputs": [],
      "source": [
        "import pandas as pd\n",
        "import numpy as np\n",
        "boston_url = 'https://cf-courses-data.s3.us.cloud-object-storage.appdomain.cloud/IBMDeveloperSkillsNetwork-ST0151EN-SkillsNetwork/labs/boston_housing.csv'\n",
        "\n",
        "boston_df = pd.read_csv(boston_url)"
      ]
    },
    {
      "cell_type": "code",
      "source": [
        "# 1- State the hypothesis:\n",
        "\n",
        "# Null hypothesis (H0): There is no significant difference in the median value of houses bounded by the Charles river.\n",
        "# Alternative hypothesis (HA): There is a significant difference in the median value of houses bounded by the Charles river."
      ],
      "metadata": {
        "id": "7C7kTZl-TqpF"
      },
      "execution_count": null,
      "outputs": []
    },
    {
      "cell_type": "code",
      "source": [
        "\n",
        "#2- Perform the t-test for independent samples:\n",
        "from scipy.stats import ttest_ind\n",
        "\n",
        "charles_river_houses = boston_df[boston_df['CHAS'] == 1]['MEDV']\n",
        "non_charles_river_houses = boston_df[boston_df['CHAS'] == 0]['MEDV']\n",
        "\n",
        "t_statistic, p_value = ttest_ind(charles_river_houses, non_charles_river_houses)\n",
        "\n",
        "alpha = 0.05\n",
        "\n",
        "if p_value < alpha:\n",
        "    conclusion = \"Reject the null hypothesis. There is a significant difference in the median value of houses bounded by the Charles river.\"\n",
        "else:\n",
        "    conclusion = \"Fail to reject the null hypothesis. There is no significant difference in the median value of houses bounded by the Charles river.\"\n",
        "\n",
        "t_statistic\n",
        "p_value\n",
        "conclusion\n"
      ],
      "metadata": {
        "colab": {
          "base_uri": "https://localhost:8080/",
          "height": 35
        },
        "id": "GCcJjsicSSYH",
        "outputId": "dd6084d3-b47c-4e23-9d50-7aa99d75617f"
      },
      "execution_count": 15,
      "outputs": [
        {
          "output_type": "execute_result",
          "data": {
            "text/plain": [
              "'Reject the null hypothesis. There is a significant difference in the median value of houses bounded by the Charles river.'"
            ],
            "application/vnd.google.colaboratory.intrinsic+json": {
              "type": "string"
            }
          },
          "metadata": {},
          "execution_count": 15
        }
      ]
    },
    {
      "cell_type": "code",
      "source": [
        "# 3-State the hypothesis:\n",
        "\n",
        "#Null hypothesis (H0): There is no difference in median values of houses (MEDV) for each proportion of owner-occupied units built prior to 1940 (AGE).\n",
        "#Alternative hypothesis (HA): There is a difference in median values of houses (MEDV) for each proportion of owner-occupied units built prior to 1940 (AGE)."
      ],
      "metadata": {
        "id": "JjwtkaE1T-DP"
      },
      "execution_count": 16,
      "outputs": []
    },
    {
      "cell_type": "code",
      "source": [
        "# 4- Perform ANOVA:\n",
        "\n",
        "from scipy.stats import f_oneway\n",
        "\n",
        "age_groups = pd.cut(boston_df['AGE'], bins=[0, 35, 70, np.inf], labels=['35 years and younger', 'between 35 and 70 years', '70 years and older'])\n",
        "\n",
        "age_group_1 = boston_df[age_groups == '35 years and younger']['MEDV']\n",
        "age_group_2 = boston_df[age_groups == 'between 35 and 70 years']['MEDV']\n",
        "age_group_3 = boston_df[age_groups == '70 years and older']['MEDV']\n",
        "\n",
        "f_statistic, p_value = f_oneway(age_group_1, age_group_2, age_group_3)\n",
        "\n",
        "alpha = 0.05\n",
        "\n",
        "if p_value < alpha:\n",
        "    conclusion = \"Reject the null hypothesis. There is a difference in median values of houses for each proportion of owner-occupied units built prior to 1940 (AGE).\"\n",
        "else:\n",
        "    conclusion = \"Fail to reject the null hypothesis. There is no difference in median values of houses for each proportion of owner-occupied units built prior to 1940 (AGE).\"\n",
        "\n",
        "f_statistic\n",
        "p_value\n",
        "conclusion\n"
      ],
      "metadata": {
        "colab": {
          "base_uri": "https://localhost:8080/",
          "height": 53
        },
        "id": "BcOVbUqXSfjr",
        "outputId": "a9ae40eb-9833-41a9-838d-c533bf9e11a5"
      },
      "execution_count": 9,
      "outputs": [
        {
          "output_type": "execute_result",
          "data": {
            "text/plain": [
              "'Reject the null hypothesis. There is a difference in median values of houses for each proportion of owner-occupied units built prior to 1940 (AGE).'"
            ],
            "application/vnd.google.colaboratory.intrinsic+json": {
              "type": "string"
            }
          },
          "metadata": {},
          "execution_count": 9
        }
      ]
    },
    {
      "cell_type": "code",
      "source": [
        "# 5-State the hypothesis:\n",
        "\n",
        "#Null hypothesis (H0): There is no relationship between nitric oxide concentrations (NOX) and the proportion of non-retail business acres per town (INDUS).\n",
        "#Alternative hypothesis (HA): There is a relationship between nitric oxide concentrations (NOX) and the proportion of non-retail business acres per town (INDUS)."
      ],
      "metadata": {
        "id": "tgzZCxweUHAM"
      },
      "execution_count": null,
      "outputs": []
    },
    {
      "cell_type": "code",
      "source": [
        "# 6-Perform Pearson correlation:\n",
        "from scipy.stats import pearsonr\n",
        "\n",
        "correlation, p_value = pearsonr(boston_df['NOX'], boston_df['INDUS'])\n",
        "\n",
        "alpha = 0.05\n",
        "\n",
        "if p_value < alpha:\n",
        "    conclusion = \"Reject the null hypothesis. There is a significant relationship between nitric oxide concentrations and the proportion of non-retail business acres per town.\"\n",
        "else:\n",
        "    conclusion = \"Fail to reject the null hypothesis. There is no significant relationship between nitric oxide concentrations and the proportion of non-retail business acres per town.\"\n",
        "\n",
        "correlation\n",
        "p_value\n",
        "conclusion\n",
        "\n"
      ],
      "metadata": {
        "colab": {
          "base_uri": "https://localhost:8080/",
          "height": 53
        },
        "id": "uMwdtRM4Shtp",
        "outputId": "33251a69-a0ad-48d4-c3ff-1f64fed8019b"
      },
      "execution_count": 13,
      "outputs": [
        {
          "output_type": "execute_result",
          "data": {
            "text/plain": [
              "'Reject the null hypothesis. There is a significant relationship between nitric oxide concentrations and the proportion of non-retail business acres per town.'"
            ],
            "application/vnd.google.colaboratory.intrinsic+json": {
              "type": "string"
            }
          },
          "metadata": {},
          "execution_count": 13
        }
      ]
    },
    {
      "cell_type": "code",
      "source": [
        "#7- Perform regression analysis:\n",
        "import statsmodels.api as sm\n",
        "\n",
        "X = boston_df['DIS']\n",
        "y = boston_df['MEDV']\n",
        "\n",
        "X = sm.add_constant(X)\n",
        "\n",
        "model = sm.OLS(y, X).fit()\n",
        "\n",
        "model.summary()\n"
      ],
      "metadata": {
        "colab": {
          "base_uri": "https://localhost:8080/",
          "height": 448
        },
        "id": "0mGcEwnBTJjN",
        "outputId": "1bb394a8-1f54-417b-da9c-0fec7096cb30"
      },
      "execution_count": 14,
      "outputs": [
        {
          "output_type": "execute_result",
          "data": {
            "text/plain": [
              "<class 'statsmodels.iolib.summary.Summary'>\n",
              "\"\"\"\n",
              "                            OLS Regression Results                            \n",
              "==============================================================================\n",
              "Dep. Variable:                   MEDV   R-squared:                       0.062\n",
              "Model:                            OLS   Adj. R-squared:                  0.061\n",
              "Method:                 Least Squares   F-statistic:                     33.58\n",
              "Date:                Sun, 11 Jun 2023   Prob (F-statistic):           1.21e-08\n",
              "Time:                        16:32:13   Log-Likelihood:                -1823.9\n",
              "No. Observations:                 506   AIC:                             3652.\n",
              "Df Residuals:                     504   BIC:                             3660.\n",
              "Df Model:                           1                                         \n",
              "Covariance Type:            nonrobust                                         \n",
              "==============================================================================\n",
              "                 coef    std err          t      P>|t|      [0.025      0.975]\n",
              "------------------------------------------------------------------------------\n",
              "const         18.3901      0.817     22.499      0.000      16.784      19.996\n",
              "DIS            1.0916      0.188      5.795      0.000       0.722       1.462\n",
              "==============================================================================\n",
              "Omnibus:                      139.779   Durbin-Watson:                   0.570\n",
              "Prob(Omnibus):                  0.000   Jarque-Bera (JB):              305.104\n",
              "Skew:                           1.466   Prob(JB):                     5.59e-67\n",
              "Kurtosis:                       5.424   Cond. No.                         9.32\n",
              "==============================================================================\n",
              "\n",
              "Notes:\n",
              "[1] Standard Errors assume that the covariance matrix of the errors is correctly specified.\n",
              "\"\"\""
            ],
            "text/html": [
              "<table class=\"simpletable\">\n",
              "<caption>OLS Regression Results</caption>\n",
              "<tr>\n",
              "  <th>Dep. Variable:</th>          <td>MEDV</td>       <th>  R-squared:         </th> <td>   0.062</td>\n",
              "</tr>\n",
              "<tr>\n",
              "  <th>Model:</th>                   <td>OLS</td>       <th>  Adj. R-squared:    </th> <td>   0.061</td>\n",
              "</tr>\n",
              "<tr>\n",
              "  <th>Method:</th>             <td>Least Squares</td>  <th>  F-statistic:       </th> <td>   33.58</td>\n",
              "</tr>\n",
              "<tr>\n",
              "  <th>Date:</th>             <td>Sun, 11 Jun 2023</td> <th>  Prob (F-statistic):</th> <td>1.21e-08</td>\n",
              "</tr>\n",
              "<tr>\n",
              "  <th>Time:</th>                 <td>16:32:13</td>     <th>  Log-Likelihood:    </th> <td> -1823.9</td>\n",
              "</tr>\n",
              "<tr>\n",
              "  <th>No. Observations:</th>      <td>   506</td>      <th>  AIC:               </th> <td>   3652.</td>\n",
              "</tr>\n",
              "<tr>\n",
              "  <th>Df Residuals:</th>          <td>   504</td>      <th>  BIC:               </th> <td>   3660.</td>\n",
              "</tr>\n",
              "<tr>\n",
              "  <th>Df Model:</th>              <td>     1</td>      <th>                     </th>     <td> </td>   \n",
              "</tr>\n",
              "<tr>\n",
              "  <th>Covariance Type:</th>      <td>nonrobust</td>    <th>                     </th>     <td> </td>   \n",
              "</tr>\n",
              "</table>\n",
              "<table class=\"simpletable\">\n",
              "<tr>\n",
              "    <td></td>       <th>coef</th>     <th>std err</th>      <th>t</th>      <th>P>|t|</th>  <th>[0.025</th>    <th>0.975]</th>  \n",
              "</tr>\n",
              "<tr>\n",
              "  <th>const</th> <td>   18.3901</td> <td>    0.817</td> <td>   22.499</td> <td> 0.000</td> <td>   16.784</td> <td>   19.996</td>\n",
              "</tr>\n",
              "<tr>\n",
              "  <th>DIS</th>   <td>    1.0916</td> <td>    0.188</td> <td>    5.795</td> <td> 0.000</td> <td>    0.722</td> <td>    1.462</td>\n",
              "</tr>\n",
              "</table>\n",
              "<table class=\"simpletable\">\n",
              "<tr>\n",
              "  <th>Omnibus:</th>       <td>139.779</td> <th>  Durbin-Watson:     </th> <td>   0.570</td>\n",
              "</tr>\n",
              "<tr>\n",
              "  <th>Prob(Omnibus):</th> <td> 0.000</td>  <th>  Jarque-Bera (JB):  </th> <td> 305.104</td>\n",
              "</tr>\n",
              "<tr>\n",
              "  <th>Skew:</th>          <td> 1.466</td>  <th>  Prob(JB):          </th> <td>5.59e-67</td>\n",
              "</tr>\n",
              "<tr>\n",
              "  <th>Kurtosis:</th>      <td> 5.424</td>  <th>  Cond. No.          </th> <td>    9.32</td>\n",
              "</tr>\n",
              "</table><br/><br/>Notes:<br/>[1] Standard Errors assume that the covariance matrix of the errors is correctly specified."
            ]
          },
          "metadata": {},
          "execution_count": 14
        }
      ]
    }
  ]
}